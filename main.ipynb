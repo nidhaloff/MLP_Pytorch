{
  "nbformat": 4,
  "nbformat_minor": 0,
  "metadata": {
    "colab": {
      "name": "main.ipynb",
      "provenance": [],
      "include_colab_link": true
    },
    "kernelspec": {
      "name": "python3",
      "display_name": "Python 3"
    },
    "accelerator": "GPU"
  },
  "cells": [
    {
      "cell_type": "markdown",
      "metadata": {
        "id": "view-in-github",
        "colab_type": "text"
      },
      "source": [
        "<a href=\"https://colab.research.google.com/github/nidhaloff/MLP_Pytorch/blob/master/main.ipynb\" target=\"_parent\"><img src=\"https://colab.research.google.com/assets/colab-badge.svg\" alt=\"Open In Colab\"/></a>"
      ]
    },
    {
      "cell_type": "code",
      "metadata": {
        "id": "OtaL94B2Noxw",
        "colab_type": "code",
        "outputId": "e3d2e785-c3cc-4554-a0ef-f90350a59bb4",
        "colab": {
          "base_uri": "https://localhost:8080/",
          "height": 34
        }
      },
      "source": [
        "import keras\n",
        "from keras import backend as K\n",
        "import tensorflow as tf\n",
        "import numpy as np\n",
        "import pandas as pd\n",
        "import matplotlib.pyplot as plt\n",
        "import seaborn as sns\n",
        "import torch\n",
        "import torch.nn as nn\n",
        "import torch.optim as optim\n",
        "from torch.utils.data import TensorDataset, DataLoader\n",
        "from sklearn.metrics import r2_score\n",
        "from sklearn.preprocessing import StandardScaler\n",
        "\n",
        "%matplotlib inline\n",
        "\n",
        "# run keras model on google GPU\n",
        "sess = tf.Session(config=tf.ConfigProto(log_device_placement=True))\n",
        "K.tensorflow_backend._get_available_gpus()"
      ],
      "execution_count": 465,
      "outputs": [
        {
          "output_type": "execute_result",
          "data": {
            "text/plain": [
              "['/job:localhost/replica:0/task:0/device:GPU:0']"
            ]
          },
          "metadata": {
            "tags": []
          },
          "execution_count": 465
        }
      ]
    },
    {
      "cell_type": "code",
      "metadata": {
        "id": "SPocZ4RTNwCl",
        "colab_type": "code",
        "colab": {}
      },
      "source": [
        "\n",
        "X_train = np.arange(1, 1001).reshape(-1, 1)\n",
        "X_test = np.arange(1000, 1500).reshape(-1, 1)\n",
        "y_train = np.array([2 * x[0] + np.random.rand() for x in X_train]).reshape(-1, 1)\n",
        "y_test = np.array([2 * x[0] + np.random.rand() for x in X_test]).reshape(-1, 1)\n",
        "\n",
        "# print(X_train[:5])\n",
        "# print(y_train[:5])\n",
        "# print(X_test[:5])\n",
        "# print(y_test[:5])\n",
        "# scaler = StandardScaler()\n",
        "# print(np.max(X_train), np.max(X_test))\n",
        "# print(y_train[:10])\n",
        "# X_train, X_test = scaler.fit_transform(X_train), scaler.fit_transform(X_test)\n",
        "# print(np.max(X_train), np.max(X_test))\n",
        "\n",
        "X_train = torch.from_numpy(X_train).float()\n",
        "X_test = torch.from_numpy(X_test).float()\n",
        "y_train = torch.from_numpy(np.array(y_train)).float()\n",
        "y_test = torch.from_numpy(np.array(y_test)).float()\n"
      ],
      "execution_count": 0,
      "outputs": []
    },
    {
      "cell_type": "code",
      "metadata": {
        "id": "2C6RIxKopvyn",
        "colab_type": "code",
        "colab": {}
      },
      "source": [
        "trainset = torch.utils.data.TensorDataset(X_train, y_train)\n",
        "testset = torch.utils.data.TensorDataset(X_test, y_test)\n"
      ],
      "execution_count": 0,
      "outputs": []
    },
    {
      "cell_type": "code",
      "metadata": {
        "id": "0KZHtvmYsYeZ",
        "colab_type": "code",
        "colab": {}
      },
      "source": [
        "train_loader = torch.utils.data.DataLoader(trainset, batch_size=64, shuffle=True)\n",
        "test_loader = torch.utils.data.DataLoader(testset, batch_size=64, shuffle=False)\n"
      ],
      "execution_count": 0,
      "outputs": []
    },
    {
      "cell_type": "code",
      "metadata": {
        "id": "MU7YWNnfsibh",
        "colab_type": "code",
        "colab": {}
      },
      "source": [
        "class Model(nn.Module):\n",
        "    def __init__(self, n_features, n_hidden, n_out):\n",
        "        super().__init__()\n",
        "        self.fc1 = nn.Linear(n_features, n_hidden)\n",
        "        # self.fc2 = nn.Linear(n_hidden, n_out)\n",
        "        # self.relu = nn.ReLU()\n",
        "\n",
        "    def forward(self, x):\n",
        "        x = self.fc1(x)\n",
        "        # x = self.relu(x)\n",
        "        # x = self.fc2(x)\n",
        "        return x"
      ],
      "execution_count": 0,
      "outputs": []
    },
    {
      "cell_type": "code",
      "metadata": {
        "id": "QNjgvRnpvOvq",
        "colab_type": "code",
        "colab": {
          "base_uri": "https://localhost:8080/",
          "height": 68
        },
        "outputId": "fa74a8f1-d9dd-4419-83e5-8cd4626d587f"
      },
      "source": [
        "model = Model(X.shape[1],1, 1)\n",
        "print(model)"
      ],
      "execution_count": 470,
      "outputs": [
        {
          "output_type": "stream",
          "text": [
            "Model(\n",
            "  (fc1): Linear(in_features=1, out_features=1, bias=True)\n",
            ")\n"
          ],
          "name": "stdout"
        }
      ]
    },
    {
      "cell_type": "code",
      "metadata": {
        "id": "0T4Vc4ErvYUW",
        "colab_type": "code",
        "colab": {}
      },
      "source": [
        "criterion = nn.MSELoss()\n",
        "optimizer = optim.SGD(model.parameters(), lr=1e-7, momentum=0.9)\n",
        "\n",
        "def train(model, optimizer, loss_fn):\n",
        "    def train_step(x, y):\n",
        "        model.train()\n",
        "        optimizer.zero_grad()\n",
        "        out = model(x)\n",
        "        loss = loss_fn(out, y)\n",
        "        loss.backward()\n",
        "        optimizer.step()\n",
        "        return loss.item()\n",
        "    return train_step\n"
      ],
      "execution_count": 0,
      "outputs": []
    },
    {
      "cell_type": "code",
      "metadata": {
        "id": "cNIv97txzRlw",
        "colab_type": "code",
        "colab": {}
      },
      "source": [
        "def fit(epochs=100):\n",
        "    train_func = train(model, optimizer, criterion)\n",
        "    count, total = 0, 0\n",
        "    loss_list, accuracy_list, iters = [], [], []\n",
        "    for e in range(epochs):\n",
        "        for X, y in train_loader:\n",
        "            loss = train_func(X, y)\n",
        "            count += 1\n",
        "            total += len(y)\n",
        "            if count % 50 == 0:\n",
        "                print(\"loss= \", loss)\n",
        "                loss_list.append(loss)\n",
        "                iters.append(total)\n",
        "\n",
        "            if count % 100 == 0:\n",
        "                model.eval()\n",
        "                out = model(X)\n",
        "                out = out.detach().numpy()\n",
        "                y = y.detach().numpy()\n",
        "                accuracy = r2_score(y, out)\n",
        "                print(\"accuracy = \", accuracy)\n",
        "                accuracy_list.append(accuracy)\n",
        "    \n",
        "    return iters, loss_list, accuracy_list\n"
      ],
      "execution_count": 0,
      "outputs": []
    },
    {
      "cell_type": "code",
      "metadata": {
        "id": "8FW3hyEc4TPK",
        "colab_type": "code",
        "colab": {
          "base_uri": "https://localhost:8080/",
          "height": 204
        },
        "outputId": "51a07eef-0cdc-4518-b31e-8bf2a8a1410c"
      },
      "source": [
        "iters, loss_list, accuracy_list = fit(epochs=20)\n",
        "print(loss_list)\n",
        "print(\"acc list: \", accuracy_list)"
      ],
      "execution_count": 473,
      "outputs": [
        {
          "output_type": "stream",
          "text": [
            "loss=  4999.20263671875\n",
            "loss=  14.009926795959473\n",
            "accuracy =  0.9999756307107588\n",
            "loss=  0.11514446139335632\n",
            "loss=  0.13048475980758667\n",
            "accuracy =  0.9999996334333044\n",
            "loss=  0.10948947817087173\n",
            "loss=  0.1115807294845581\n",
            "accuracy =  0.9999996079448497\n",
            "[4999.20263671875, 14.009926795959473, 0.11514446139335632, 0.13048475980758667, 0.10948947817087173, 0.1115807294845581]\n",
            "acc list:  [0.9999756307107588, 0.9999996334333044, 0.9999996079448497]\n"
          ],
          "name": "stdout"
        }
      ]
    },
    {
      "cell_type": "code",
      "metadata": {
        "id": "4YyxqwL_5w6_",
        "colab_type": "code",
        "colab": {
          "base_uri": "https://localhost:8080/",
          "height": 528
        },
        "outputId": "d710fe44-9a39-424c-a802-bb8b07e5364c"
      },
      "source": [
        "plt.plot(iters, loss_list, color=\"b\")\n",
        "plt.show()\n",
        "plt.plot(np.arange(0, len(accuracy_list)), accuracy_list, color=\"r\")\n",
        "plt.show()"
      ],
      "execution_count": 474,
      "outputs": [
        {
          "output_type": "display_data",
          "data": {
            "image/png": "[encoded data removed]",
            "text/plain": [
              "<Figure size 432x288 with 1 Axes>"
            ]
          },
          "metadata": {
            "tags": []
          }
        },
        {
          "output_type": "display_data",
          "data": {
            "image/png": "[encoded data removed]",
            "text/plain": [
              "<Figure size 432x288 with 1 Axes>"
            ]
          },
          "metadata": {
            "tags": []
          }
        }
      ]
    },
    {
      "cell_type": "code",
      "metadata": {
        "id": "58UNJKZHCWwc",
        "colab_type": "code",
        "colab": {}
      },
      "source": [
        "def test():\n",
        "    model.eval()\n",
        "    loss_list, accs = [], []\n",
        "    with torch.no_grad():\n",
        "        for x_test, y_test in test_loader:\n",
        "            pred = model(x_test)\n",
        "            # print(pred.shape, y_test.shape)\n",
        "            loss = criterion(pred, y_test)\n",
        "            loss_list.append(loss.item())\n",
        "            acc = r2_score(y_test.numpy(), pred.numpy())\n",
        "            print(\"r2_score: \", acc)\n",
        "            acc1 = 1 - (loss.item() / (torch.var(y_test)))\n",
        "            print(\"own function: \", acc1.item())\n",
        "            accs.append(acc)\n",
        "\n",
        "    return loss_list, accs"
      ],
      "execution_count": 0,
      "outputs": []
    },
    {
      "cell_type": "code",
      "metadata": {
        "id": "Iq4RF586m3j3",
        "colab_type": "code",
        "colab": {
          "base_uri": "https://localhost:8080/",
          "height": 377
        },
        "outputId": "0c8317c7-d752-4586-cd1e-663856321011"
      },
      "source": [
        "losses, accs = test()\n",
        "print(\"losses: \", losses)\n",
        "print(\"=\"*50)\n",
        "print(\"accuracy => \", sum(accs)/len(accs))\n",
        "print(accs)"
      ],
      "execution_count": 476,
      "outputs": [
        {
          "output_type": "stream",
          "text": [
            "r2_score:  0.9999063453412198\n",
            "own function:  0.9999077916145325\n",
            "r2_score:  0.9998920713423389\n",
            "own function:  0.9998937845230103\n",
            "r2_score:  0.9998782885848229\n",
            "own function:  0.9998801946640015\n",
            "r2_score:  0.9998760278134515\n",
            "own function:  0.9998779892921448\n",
            "r2_score:  0.9998887488284989\n",
            "own function:  0.9998905062675476\n",
            "r2_score:  0.9998575261854227\n",
            "own function:  0.9998597502708435\n",
            "r2_score:  0.9998352553305344\n",
            "own function:  0.9998378157615662\n",
            "r2_score:  0.9997210001287214\n",
            "own function:  0.9997263550758362\n",
            "losses:  [0.12791192531585693, 0.14752505719661713, 0.1660080850124359, 0.16892458498477936, 0.1520095318555832, 0.1949945092201233, 0.2257261872291565, 0.2508370876312256]\n",
            "==================================================\n",
            "accuracy =>  0.9998569079443763\n",
            "[0.9999063453412198, 0.9998920713423389, 0.9998782885848229, 0.9998760278134515, 0.9998887488284989, 0.9998575261854227, 0.9998352553305344, 0.9997210001287214]\n"
          ],
          "name": "stdout"
        }
      ]
    },
    {
      "cell_type": "code",
      "metadata": {
        "id": "IbHUr2gmm4Wt",
        "colab_type": "code",
        "colab": {
          "base_uri": "https://localhost:8080/",
          "height": 68
        },
        "outputId": "8702fac1-c6f3-4541-c6bb-72472e48faf6"
      },
      "source": [
        "preds = model(X_test[0])\n",
        "print(preds)\n",
        "print(\"=\"*40)\n",
        "print(y_test[0])"
      ],
      "execution_count": 477,
      "outputs": [
        {
          "output_type": "stream",
          "text": [
            "tensor([2000.3136], grad_fn=<AddBackward0>)\n",
            "========================================\n",
            "tensor([2000.6338])\n"
          ],
          "name": "stdout"
        }
      ]
    },
    {
      "cell_type": "code",
      "metadata": {
        "id": "bKxfnW18Ug-w",
        "colab_type": "code",
        "colab": {}
      },
      "source": [
        ""
      ],
      "execution_count": 0,
      "outputs": []
    }
  ]
}